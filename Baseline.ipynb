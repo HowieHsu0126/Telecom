{
 "cells": [
  {
   "cell_type": "code",
   "execution_count": 3,
   "metadata": {},
   "outputs": [],
   "source": [
    "from tpot import TPOTClassifier\n",
    "from sklearn.model_selection import train_test_split\n",
    "import pandas as pd\n",
    "from sklearn.model_selection import cross_val_score, StratifiedGroupKFold\n",
    "\n",
    "train_data = pd.read_csv(\n",
    "    '/home/hwxu/Projects/Competition/Telecom/Input/processed/train50.csv')\n",
    "X_test = pd.read_csv(\n",
    "    '/home/hwxu/Projects/Competition/Telecom/Input/processed/val50.csv')\n",
    "\n",
    "X = train_data.drop(columns=['is_sa'])\n",
    "y = train_data['is_sa']\n"
   ]
  },
  {
   "cell_type": "code",
   "execution_count": 4,
   "metadata": {},
   "outputs": [
    {
     "data": {
      "application/vnd.jupyter.widget-view+json": {
       "model_id": "ce37e98566ba4f3d84599ee0fb8be366",
       "version_major": 2,
       "version_minor": 0
      },
      "text/plain": [
       "Optimization Progress:   0%|          | 0/10100 [00:00<?, ?pipeline/s]"
      ]
     },
     "metadata": {},
     "output_type": "display_data"
    }
   ],
   "source": [
    "cv_strategy = StratifiedGroupKFold(n_splits=5)\n",
    "\n",
    "tpot = TPOTClassifier(\n",
    "    generations=100, \n",
    "    population_size=100, \n",
    "    early_stop=10,\n",
    "    scoring='f1',\n",
    "    verbosity=2, \n",
    "    random_state=42,\n",
    "    cv=cv_strategy,\n",
    "    n_jobs=8)\n",
    "\n",
    "tpot.fit(X, y, groups=X['msisdn'], )\n"
   ]
  },
  {
   "cell_type": "code",
   "execution_count": null,
   "metadata": {},
   "outputs": [],
   "source": [
    "tpot.export('tpot_pipeline.py')"
   ]
  }
 ],
 "metadata": {
  "kernelspec": {
   "display_name": "hw",
   "language": "python",
   "name": "python3"
  },
  "language_info": {
   "codemirror_mode": {
    "name": "ipython",
    "version": 3
   },
   "file_extension": ".py",
   "mimetype": "text/x-python",
   "name": "python",
   "nbconvert_exporter": "python",
   "pygments_lexer": "ipython3",
   "version": "3.9.18"
  }
 },
 "nbformat": 4,
 "nbformat_minor": 2
}
