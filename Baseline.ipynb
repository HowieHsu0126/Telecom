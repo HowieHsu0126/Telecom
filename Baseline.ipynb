{
 "cells": [
  {
   "cell_type": "code",
   "execution_count": null,
   "metadata": {},
   "outputs": [],
   "source": [
    "from tpot import TPOTClassifier\n",
    "from sklearn.model_selection import train_test_split\n",
    "import pandas as pd\n",
    "from sklearn.model_selection import cross_val_score, StratifiedGroupKFold\n",
    "\n",
    "train_data = pd.read_csv(\n",
    "    '/home/hwxu/Projects/Competition/Telecom/Input/processed/train.csv')\n",
    "X_test = pd.read_csv(\n",
    "    '/home/hwxu/Projects/Competition/Telecom/Input/processed/val.csv')\n",
    "\n",
    "X = train_data.drop(columns=['is_sa'])\n",
    "y = train_data['is_sa']\n",
    "X_train, X_val, y_train, y_val = train_test_split(X, y, test_size=0.25)\n"
   ]
  },
  {
   "cell_type": "code",
   "execution_count": null,
   "metadata": {},
   "outputs": [],
   "source": [
    "cv_strategy = StratifiedGroupKFold(n_splits=10)\n",
    "\n",
    "tpot = TPOTClassifier(generations=5, population_size=50, verbosity=2, random_state=42, cv=cv_strategy)\n",
    "tpot.fit(X_train, y_train)\n",
    "print(tpot.score(X_val, y_val))\n"
   ]
  }
 ],
 "metadata": {
  "kernelspec": {
   "display_name": "hw",
   "language": "python",
   "name": "python3"
  },
  "language_info": {
   "codemirror_mode": {
    "name": "ipython",
    "version": 3
   },
   "file_extension": ".py",
   "mimetype": "text/x-python",
   "name": "python",
   "nbconvert_exporter": "python",
   "pygments_lexer": "ipython3",
   "version": "3.9.18"
  }
 },
 "nbformat": 4,
 "nbformat_minor": 2
}
