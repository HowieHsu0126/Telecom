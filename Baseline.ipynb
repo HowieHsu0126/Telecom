{
 "cells": [
  {
   "cell_type": "code",
   "execution_count": 1,
   "metadata": {},
   "outputs": [],
   "source": [
    "from tpot import TPOTClassifier\n",
    "from sklearn.model_selection import train_test_split\n",
    "import pandas as pd\n",
    "from sklearn.model_selection import cross_val_score, StratifiedGroupKFold\n",
    "\n",
    "train_data = pd.read_csv(\n",
    "    '/home/hwxu/Projects/Competition/Telecom/Input/processed/train.csv')\n",
    "X_test = pd.read_csv(\n",
    "    '/home/hwxu/Projects/Competition/Telecom/Input/processed/val.csv')\n",
    "\n",
    "X = train_data.drop(columns=['is_sa'])\n",
    "y = train_data['is_sa']\n",
    "X_train, X_val, y_train, y_val = train_test_split(X, y, test_size=0.25)\n"
   ]
  },
  {
   "cell_type": "code",
   "execution_count": 2,
   "metadata": {},
   "outputs": [
    {
     "data": {
      "application/vnd.jupyter.widget-view+json": {
       "model_id": "c30bfe512b364aeda852fc503d6a5321",
       "version_major": 2,
       "version_minor": 0
      },
      "text/plain": [
       "Optimization Progress:   0%|          | 0/200 [00:00<?, ?pipeline/s]"
      ]
     },
     "metadata": {},
     "output_type": "display_data"
    },
    {
     "name": "stdout",
     "output_type": "stream",
     "text": [
      "\n",
      "Generation 1 - Current best internal CV score: 1.0\n",
      "\n",
      "Generation 2 - Current best internal CV score: 1.0\n",
      "\n",
      "Generation 3 - Current best internal CV score: 1.0\n",
      "\n",
      "Best pipeline: XGBClassifier(input_matrix, learning_rate=0.001, max_depth=9, min_child_weight=7, n_estimators=100, n_jobs=1, subsample=0.45, verbosity=0)\n",
      "0.799791449426486\n"
     ]
    }
   ],
   "source": [
    "cv_strategy = StratifiedGroupKFold(n_splits=5)\n",
    "\n",
    "tpot = TPOTClassifier(generations=3, population_size=50, verbosity=2, random_state=42, cv=cv_strategy)\n",
    "tpot.fit(X_train, y_train)\n",
    "print(tpot.score(X_val, y_val))\n"
   ]
  }
 ],
 "metadata": {
  "kernelspec": {
   "display_name": "hw",
   "language": "python",
   "name": "python3"
  },
  "language_info": {
   "codemirror_mode": {
    "name": "ipython",
    "version": 3
   },
   "file_extension": ".py",
   "mimetype": "text/x-python",
   "name": "python",
   "nbconvert_exporter": "python",
   "pygments_lexer": "ipython3",
   "version": "3.9.18"
  }
 },
 "nbformat": 4,
 "nbformat_minor": 2
}
